{
  "nbformat": 4,
  "nbformat_minor": 0,
  "metadata": {
    "colab": {
      "provenance": [],
      "authorship_tag": "ABX9TyPnylq7XYASnbiIlWGo7nQC",
      "include_colab_link": true
    },
    "kernelspec": {
      "name": "python3",
      "display_name": "Python 3"
    },
    "language_info": {
      "name": "python"
    }
  },
  "cells": [
    {
      "cell_type": "markdown",
      "metadata": {
        "id": "view-in-github",
        "colab_type": "text"
      },
      "source": [
        "<a href=\"https://colab.research.google.com/github/Suchith-136/AIAS-Lab-2.3/blob/main/lab2_3.ipynb\" target=\"_parent\"><img src=\"https://colab.research.google.com/assets/colab-badge.svg\" alt=\"Open In Colab\"/></a>"
      ]
    },
    {
      "cell_type": "markdown",
      "source": [
        "Task Description#1\n",
        "● Use Google Gemini in Colab to write a function that reads a CSV file and calculates\n",
        "mean, min, max.\n",
        "Expected Output#1\n",
        "● Functional code with output and screensho"
      ],
      "metadata": {
        "id": "t8iwGDZHcGbS"
      }
    },
    {
      "cell_type": "code",
      "source": [
        "import pandas as pd\n",
        "\n",
        "def analyze_csv_column(file_path, column_name):\n",
        "  \"\"\"\n",
        "  Reads a CSV file, calculates the mean, min, and max of a specified column.\n",
        "\n",
        "  Args:\n",
        "    file_path: The path to the CSV file.\n",
        "    column_name: The name of the column to analyze.\n",
        "\n",
        "  Returns:\n",
        "    A dictionary containing the mean, min, and max of the specified column,\n",
        "    or None if an error occurs.\n",
        "  \"\"\"\n",
        "  try:\n",
        "    df = pd.read_csv(file_path)\n",
        "\n",
        "    if column_name not in df.columns:\n",
        "      print(f\"Error: Column '{column_name}' not found in the CSV file.\")\n",
        "      return None\n",
        "\n",
        "    column_data = df[column_name]\n",
        "\n",
        "    # Calculate mean, min, and max, handling potential non-numeric data\n",
        "    mean_value = pd.to_numeric(column_data, errors='coerce').mean()\n",
        "    min_value = pd.to_numeric(column_data, errors='coerce').min()\n",
        "    max_value = pd.to_numeric(column_data, errors='coerce').max()\n",
        "\n",
        "\n",
        "    results = {\n",
        "        'mean': mean_value,\n",
        "        'min': min_value,\n",
        "        'max': max_value\n",
        "    }\n",
        "    return results\n",
        "\n",
        "  except FileNotFoundError:\n",
        "    print(f\"Error: File not found at '{file_path}'\")\n",
        "    return None\n",
        "  except Exception as e:\n",
        "    print(f\"An error occurred: {e}\")\n",
        "    return None\n",
        "\n",
        "# Example usage:\n",
        "# Assuming you have a CSV file named 'data.csv' with a column named 'value'\n",
        "# results = analyze_csv_column('data.csv', 'value')\n",
        "# if results:\n",
        "#   print(f\"Analysis results for 'value' column: {results}\")"
      ],
      "metadata": {
        "id": "usEa_MzucV_b"
      },
      "execution_count": null,
      "outputs": []
    },
    {
      "cell_type": "code",
      "source": [
        "# Create a dummy CSV file for demonstration\n",
        "dummy_csv_path = '/content/lab 2_3.csv'\n",
        "\n",
        "# Use the analyze_csv_column function\n",
        "results = analyze_csv_column(dummy_csv_path, 'Marks')\n",
        "\n",
        "# Print the results\n",
        "if results:\n",
        "  print(f\"Analysis results for 'value' column: {results}\")"
      ],
      "metadata": {
        "colab": {
          "base_uri": "https://localhost:8080/"
        },
        "id": "Nwy1al1SegKf",
        "outputId": "94bad966-ea41-4890-931b-1f7b60bfc2df"
      },
      "execution_count": null,
      "outputs": [
        {
          "output_type": "stream",
          "name": "stdout",
          "text": [
            "Analysis results for 'value' column: {'mean': np.float64(50.1), 'min': 2, 'max': 89}\n"
          ]
        }
      ]
    },
    {
      "cell_type": "markdown",
      "source": [
        "Task Description#2\n",
        "●\tCompare Gemini and Copilot outputs for a palindrome check function.\n",
        "Expected Output#2\n",
        "●\tSide-by-side comparison and observations\n"
      ],
      "metadata": {
        "id": "EapSzN_IqvRT"
      }
    },
    {
      "cell_type": "code",
      "source": [],
      "metadata": {
        "id": "3cCPaLvlrTth"
      },
      "execution_count": null,
      "outputs": []
    }
  ]
}