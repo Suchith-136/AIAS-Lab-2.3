{
  "nbformat": 4,
  "nbformat_minor": 0,
  "metadata": {
    "colab": {
      "provenance": [],
      "authorship_tag": "ABX9TyM8IEOd7ysIMlDtpmpsQgVH",
      "include_colab_link": true
    },
    "kernelspec": {
      "name": "python3",
      "display_name": "Python 3"
    },
    "language_info": {
      "name": "python"
    }
  },
  "cells": [
    {
      "cell_type": "markdown",
      "metadata": {
        "id": "view-in-github",
        "colab_type": "text"
      },
      "source": [
        "<a href=\"https://colab.research.google.com/github/Suchith-136/AIAS-Lab-2.3/blob/main/task_5.ipynb\" target=\"_parent\"><img src=\"https://colab.research.google.com/assets/colab-badge.svg\" alt=\"Open In Colab\"/></a>"
      ]
    },
    {
      "cell_type": "markdown",
      "source": [
        "Task Description#5\n",
        "●\tStudent need to write code to calculate sum of add number and even numbers in the list\n",
        "Expected Output#5\n",
        "●\tRefactored code written by student with improved logic\n"
      ],
      "metadata": {
        "id": "ZADWFqqr4leI"
      }
    },
    {
      "cell_type": "code",
      "execution_count": 1,
      "metadata": {
        "colab": {
          "base_uri": "https://localhost:8080/"
        },
        "id": "uPmTNsht4dTu",
        "outputId": "72626566-8c90-44c3-959e-d24017b3832b"
      },
      "outputs": [
        {
          "output_type": "stream",
          "name": "stdout",
          "text": [
            "Enter a list of numbers separated by spaces: 1 2 3 4 5 6 \n",
            "Sum of odd numbers: 9\n",
            "Sum of even numbers: 12\n"
          ]
        }
      ],
      "source": [
        "def calculate_odd_even_sum():\n",
        "    \"\"\"\n",
        "    Calculates the sum of odd and even numbers in a list provided by the user.\n",
        "    \"\"\"\n",
        "    input_list_str = input(\"Enter a list of numbers separated by spaces: \")\n",
        "    try:\n",
        "        numbers = [int(x) for x in input_list_str.split()]\n",
        "    except ValueError:\n",
        "        print(\"Invalid input. Please enter numbers separated by spaces.\")\n",
        "        return\n",
        "\n",
        "    odd_sum = 0\n",
        "    even_sum = 0\n",
        "\n",
        "    for number in numbers:\n",
        "        if number % 2 == 0:\n",
        "            even_sum += number\n",
        "        else:\n",
        "            odd_sum += number\n",
        "\n",
        "    print(f\"Sum of odd numbers: {odd_sum}\")\n",
        "    print(f\"Sum of even numbers: {even_sum}\")\n",
        "\n",
        "calculate_odd_even_sum()"
      ]
    }
  ]
}